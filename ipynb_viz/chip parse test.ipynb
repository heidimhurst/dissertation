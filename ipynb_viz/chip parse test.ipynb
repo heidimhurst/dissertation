{
 "cells": [
  {
   "cell_type": "markdown",
   "metadata": {},
   "source": [
    "### Parsing Chip Information\n",
    "Script to parse the information in chip output for future use"
   ]
  },
  {
   "cell_type": "code",
   "execution_count": 37,
   "metadata": {
    "collapsed": true
   },
   "outputs": [],
   "source": [
    "from subprocess import call\n",
    "import csv"
   ]
  },
  {
   "cell_type": "code",
   "execution_count": 1,
   "metadata": {
    "collapsed": true
   },
   "outputs": [],
   "source": [
    "info_file = 'results.txt'"
   ]
  },
  {
   "cell_type": "code",
   "execution_count": 38,
   "metadata": {
    "collapsed": false
   },
   "outputs": [],
   "source": [
    "def parse_file(info_file):\n",
    "    \"\"\"\n",
    "    Parses an info file created by the chipping utility to create a txt file\n",
    "    with all the information we want in it yay.\n",
    "\n",
    "    Args:\n",
    "        info_file: path to file containing outputs from process_wv.py\n",
    "    Returns:\n",
    "        test: int number of test chips\n",
    "        train: int number of training chips\n",
    "        chips: int total number of chips\n",
    "        boxes: int total number of objects\n",
    "    \"\"\"\n",
    "\n",
    "    with open(info_file, 'r') as info:\n",
    "        # read in as a string\n",
    "        data = info.read().replace('\\n', '')\n",
    "        # find substring containing chip information\n",
    "        test = int(data[data.rfind(':') + 1:data.rfind('test')].strip())\n",
    "        # cut off last info section of data\n",
    "        data = data[:data.rfind('INFO')]\n",
    "        # find substring iwth training information\n",
    "        train = int(data[data.rfind(':') + 1:data.rfind('train')].strip())\n",
    "        # total number of chips\n",
    "        chips = int(data[data.find(\"Chips:\")+6:data.rfind(\"INFO\")].strip())\n",
    "        # cut off last info section of data\n",
    "        data = data[:data.rfind('INFO')]\n",
    "        # total number of boxes\n",
    "        boxes = int(data[data.find(\"Tot Box:\")+8:data.rfind(\"INFO\")].strip())\n",
    "\n",
    "    return test, train, chips, boxes"
   ]
  },
  {
   "cell_type": "code",
   "execution_count": 40,
   "metadata": {
    "collapsed": false
   },
   "outputs": [
    {
     "data": {
      "text/plain": [
       "tuple"
      ]
     },
     "execution_count": 40,
     "metadata": {},
     "output_type": "execute_result"
    }
   ],
   "source": [
    "parse_file(info_file)"
   ]
  },
  {
   "cell_type": "code",
   "execution_count": 45,
   "metadata": {
    "collapsed": false
   },
   "outputs": [],
   "source": [
    "def write_to_csv(factor=-1, test=-1, train=-1, chips=-1, boxes=-1, out_file='tfrecord_info.csv'):\n",
    "    \"\"\"\n",
    "    Writes statistics from info file to end of outfile.\n",
    "\n",
    "    Args:\n",
    "        test, train, chips, boxes: integers from parse_file (-1 as default)\n",
    "        out_file: path to csv file where info should be written\n",
    "\n",
    "    Returns:\n",
    "        none\n",
    "    \"\"\"\n",
    "\n",
    "    with open(out_file, 'w') as o:\n",
    "        writer = csv.writer(o, delimiter=',')\n",
    "        writer.writerow([factor, test, train, chips, boxes])\n"
   ]
  },
  {
   "cell_type": "code",
   "execution_count": 60,
   "metadata": {
    "collapsed": true
   },
   "outputs": [],
   "source": [
    "out_file = 'out_test2.csv'"
   ]
  },
  {
   "cell_type": "code",
   "execution_count": 61,
   "metadata": {
    "collapsed": false
   },
   "outputs": [],
   "source": [
    "with open(out_file, 'a') as o:\n",
    "        writer = csv.writer(o, delimiter=',')\n",
    "        writer.writerow([0.1] + list(parse_file(info_file)))"
   ]
  },
  {
   "cell_type": "code",
   "execution_count": 53,
   "metadata": {
    "collapsed": false
   },
   "outputs": [
    {
     "data": {
      "text/plain": [
       "[0, 6, 6, 26]"
      ]
     },
     "execution_count": 53,
     "metadata": {},
     "output_type": "execute_result"
    }
   ],
   "source": [
    "list(parse_file(info_file))"
   ]
  },
  {
   "cell_type": "code",
   "execution_count": 54,
   "metadata": {
    "collapsed": false
   },
   "outputs": [
    {
     "data": {
      "text/plain": [
       "[0.1, 0, 6, 6, 26]"
      ]
     },
     "execution_count": 54,
     "metadata": {},
     "output_type": "execute_result"
    }
   ],
   "source": [
    "[0.1] + list(parse_file(info_file))"
   ]
  },
  {
   "cell_type": "code",
   "execution_count": 57,
   "metadata": {
    "collapsed": true
   },
   "outputs": [],
   "source": [
    "results = parse_file(info_file)"
   ]
  },
  {
   "cell_type": "code",
   "execution_count": 59,
   "metadata": {
    "collapsed": false
   },
   "outputs": [
    {
     "data": {
      "text/plain": [
       "0"
      ]
     },
     "execution_count": 59,
     "metadata": {},
     "output_type": "execute_result"
    }
   ],
   "source": [
    "results[0]"
   ]
  },
  {
   "cell_type": "code",
   "execution_count": null,
   "metadata": {
    "collapsed": true
   },
   "outputs": [],
   "source": []
  }
 ],
 "metadata": {
  "anaconda-cloud": {},
  "kernelspec": {
   "display_name": "Python [conda env:images27]",
   "language": "python",
   "name": "conda-env-images27-py"
  },
  "language_info": {
   "codemirror_mode": {
    "name": "ipython",
    "version": 2
   },
   "file_extension": ".py",
   "mimetype": "text/x-python",
   "name": "python",
   "nbconvert_exporter": "python",
   "pygments_lexer": "ipython2",
   "version": "2.7.13"
  }
 },
 "nbformat": 4,
 "nbformat_minor": 2
}
