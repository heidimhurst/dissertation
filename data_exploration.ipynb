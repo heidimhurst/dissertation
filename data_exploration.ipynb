{
 "cells": [
  {
   "cell_type": "markdown",
   "metadata": {},
   "source": [
    "# Data Exploration"
   ]
  },
  {
   "cell_type": "markdown",
   "metadata": {},
   "source": [
    "This file contains an exploration of the geojson dataset that accompanies xView.  For more information see http://xviewdataset.org/."
   ]
  },
  {
   "cell_type": "code",
   "execution_count": 1,
   "metadata": {
    "collapsed": false
   },
   "outputs": [],
   "source": [
    "# import statements\n",
    "import geopandas as gpd"
   ]
  },
  {
   "cell_type": "code",
   "execution_count": 3,
   "metadata": {
    "collapsed": false
   },
   "outputs": [],
   "source": [
    "fname = \"../data/xView_train.geojson\"\n",
    "\n",
    "df = gpd.read_file(fname)"
   ]
  },
  {
   "cell_type": "code",
   "execution_count": 4,
   "metadata": {
    "collapsed": false
   },
   "outputs": [
    {
     "data": {
      "text/plain": [
       "geopandas.geodataframe.GeoDataFrame"
      ]
     },
     "execution_count": 4,
     "metadata": {},
     "output_type": "execute_result"
    }
   ],
   "source": [
    "type(df)"
   ]
  },
  {
   "cell_type": "code",
   "execution_count": 5,
   "metadata": {
    "collapsed": false
   },
   "outputs": [
    {
     "data": {
      "text/plain": [
       "<bound method NDFrame.head of             bounds_imcoords        edited_by            cat_id  type_id  \\\n",
       "0       2712,1145,2746,1177  wwoscarbecerril  1040010028371A00       73   \n",
       "1       2720,2233,2760,2288  wwoscarbecerril  1040010028371A00       73   \n",
       "2       2687,1338,2740,1399  wwoscarbecerril  1040010028371A00       73   \n",
       "3       2691,1201,2730,1268  wwoscarbecerril  1040010028371A00       73   \n",
       "4         2671,838,2714,869  wwoscarbecerril  1040010028371A00       73   \n",
       "5       2705,1181,2738,1206  wwoscarbecerril  1040010028371A00       73   \n",
       "6       2709,1014,2747,1072  wwoscarbecerril  1040010028371A00       73   \n",
       "7         2671,808,2733,866  wwoscarbecerril  1040010028371A00       73   \n",
       "8         2700,353,2731,384  wwoscarbecerril  1040010028371A00       73   \n",
       "9       2704,2123,2749,2151  wwoscarbecerril  1040010028371A00       73   \n",
       "10        2683,256,2711,298  wwoscarbecerril  1040010028371A00       73   \n",
       "11      2700,1841,2729,1885  wwoscarbecerril  1040010028371A00       73   \n",
       "12      2703,2007,2745,2040  wwoscarbecerril  1040010028371A00       73   \n",
       "13      2678,1452,2725,1529  wwoscarbecerril  1040010028371A00       73   \n",
       "14      2695,1067,2734,1127  wwoscarbecerril  1040010028371A00       73   \n",
       "15      2671,1405,2728,1452  wwoscarbecerril  1040010028371A00       73   \n",
       "16        2669,344,2704,378  wwoscarbecerril  1040010028371A00       73   \n",
       "17      2714,2093,2738,2129  wwoscarbecerril  1040010028371A00       73   \n",
       "18        2685,196,2738,250   wwrubenjimenez  1040010028371A00       73   \n",
       "19      2686,1010,2722,1071  wwoscarbecerril  1040010028371A00       73   \n",
       "20        2665,387,2703,430   wwrubenjimenez  1040010028371A00       73   \n",
       "21        2676,579,2712,622   wwrubenjimenez  1040010028371A00       73   \n",
       "22        2687,773,2719,801  wwoscarbecerril  1040010028371A00       73   \n",
       "23        2683,554,2724,586   wwrubenjimenez  1040010028371A00       73   \n",
       "24      2701,1285,2749,1337  wwoscarbecerril  1040010028371A00       73   \n",
       "25        2661,474,2727,545   wwrubenjimenez  1040010028371A00       73   \n",
       "26      2715,2412,2737,2434  wwoscarbecerril  1040010028371A00       73   \n",
       "27      2718,2037,2752,2074  wwoscarbecerril  1040010028371A00       73   \n",
       "28        2682,384,2734,440   wwrubenjimenez  1040010028371A00       73   \n",
       "29      2695,2218,2736,2264  wwoscarbecerril  1040010028371A00       73   \n",
       "...                     ...              ...               ...      ...   \n",
       "601907     1801,84,1817,100  wwoscarbecerril  1040010029A6F400       73   \n",
       "601908  1938,2467,1989,2518  wwnicolecenteno  1040010029A6F400       73   \n",
       "601909  1317,2081,1408,2140  wwnicolecenteno  1040010029A6F400       73   \n",
       "601910  1887,2331,1932,2392      wwluisreyes  1040010029A6F400       73   \n",
       "601911  2401,2229,2419,2251      wwluisreyes  1040010029A6F400       73   \n",
       "601912  1532,2377,1552,2399      wwluisreyes  1040010029A6F400       73   \n",
       "601913  1512,1957,1605,2022      wwluisreyes  1040010029A6F400       73   \n",
       "601914  1664,2107,1745,2185      wwluisreyes  1040010029A6F400       73   \n",
       "601915  1590,1760,1606,1773      wwluisreyes  1040010029A6F400       73   \n",
       "601916  1699,1747,1738,1785      wwluisreyes  1040010029A6F400       73   \n",
       "601917  1361,1962,1454,2021      wwluisreyes  1040010029A6F400       73   \n",
       "601918    623,1712,647,1739      wwluisreyes  1040010029A6F400       73   \n",
       "601919       8,1579,56,1626   wwrubenjimenez  1040010029A6F400       73   \n",
       "601920    2313,810,2359,861  wwnicolecenteno  1040010029A6F400       73   \n",
       "601921  2331,2336,2381,2380  wwnicolecenteno  1040010029A6F400       73   \n",
       "601922  1896,2225,1946,2284  wwnicolecenteno  1040010029A6F400       73   \n",
       "601923  1306,2438,1336,2482  wwnicolecenteno  1040010029A6F400       73   \n",
       "601924  2333,1969,2387,2021  wwnicolecenteno  1040010029A6F400       73   \n",
       "601925    498,1333,530,1380  wwdanielramirez  1040010029A6F400       73   \n",
       "601926    738,1718,779,1749  wwdanielramirez  1040010029A6F400       73   \n",
       "601927    612,1688,638,1712  wwdanielramirez  1040010029A6F400       73   \n",
       "601928      60,1089,82,1113  wwoscarbecerril  1040010029A6F400       73   \n",
       "601929     88,1246,194,1274  wwoscarbecerril  1040010029A6F400       73   \n",
       "601930    120,1464,208,1507  wwoscarbecerril  1040010029A6F400       73   \n",
       "601931    277,2125,302,2146  wwoscarbecerril  1040010029A6F400       73   \n",
       "601932    710,1900,738,1925  wwoscarbecerril  1040010029A6F400       73   \n",
       "601933    2091,258,2138,295  wwoscarbecerril  1040010029A6F400       73   \n",
       "601934    2106,361,2124,379  wwoscarbecerril  1040010029A6F400       73   \n",
       "601935      1917,38,1958,64  wwoscarbecerril  1040010029A6F400       73   \n",
       "601936      2323,55,2349,74  wwoscarbecerril  1040010029A6F400       73   \n",
       "\n",
       "                ingest_time  index_right  image_id  \\\n",
       "0       2017-07-24T12:49:09         2356  2355.tif   \n",
       "1       2017-07-24T17:26:05         2356  2355.tif   \n",
       "2       2017-07-24T12:45:09         2356  2355.tif   \n",
       "3       2017-07-24T12:49:09         2356  2355.tif   \n",
       "4       2017-07-24T13:20:38         2356  2355.tif   \n",
       "5       2017-07-24T12:49:09         2356  2355.tif   \n",
       "6       2017-07-24T13:03:09         2356  2355.tif   \n",
       "7       2017-07-24T13:20:38         2356  2355.tif   \n",
       "8       2017-07-24T14:11:55         2356  2355.tif   \n",
       "9       2017-07-22T18:28:20         2356  2355.tif   \n",
       "10      2017-07-24T14:13:55         2356  2355.tif   \n",
       "11      2017-07-22T18:28:20         2356  2355.tif   \n",
       "12      2017-07-24T17:26:05         2356  2355.tif   \n",
       "13      2017-07-24T12:41:09         2356  2355.tif   \n",
       "14      2017-07-24T13:01:09         2356  2355.tif   \n",
       "15      2017-07-24T12:41:09         2356  2355.tif   \n",
       "16      2017-07-24T14:11:55         2356  2355.tif   \n",
       "17      2017-07-22T18:22:44         2356  2355.tif   \n",
       "18      2017-07-24T14:18:33         2356  2355.tif   \n",
       "19      2017-07-24T13:03:09         2356  2355.tif   \n",
       "20      2017-07-24T13:34:33         2356  2355.tif   \n",
       "21      2017-07-24T13:36:33         2356  2355.tif   \n",
       "22      2017-07-24T14:09:55         2356  2355.tif   \n",
       "23      2017-07-24T13:36:33         2356  2355.tif   \n",
       "24      2017-07-24T12:45:09         2356  2355.tif   \n",
       "25      2017-07-24T13:36:33         2356  2355.tif   \n",
       "26      2017-07-22T18:04:44         2356  2355.tif   \n",
       "27      2017-07-22T18:22:44         2356  2355.tif   \n",
       "28      2017-07-24T13:34:33         2356  2355.tif   \n",
       "29      2017-07-22T18:18:44         2356  2355.tif   \n",
       "...                     ...          ...       ...   \n",
       "601907  2017-07-20T20:00:09          389   389.tif   \n",
       "601908  2017-08-09T15:24:34          389   389.tif   \n",
       "601909  2017-08-09T18:21:11          389   389.tif   \n",
       "601910  2017-07-12T21:41:30          389   389.tif   \n",
       "601911  2017-07-12T21:41:30          389   389.tif   \n",
       "601912  2017-07-12T21:43:30          389   389.tif   \n",
       "601913  2017-07-12T21:45:30          389   389.tif   \n",
       "601914  2017-07-12T21:45:30          389   389.tif   \n",
       "601915  2017-07-12T21:47:30          389   389.tif   \n",
       "601916  2017-07-12T21:49:30          389   389.tif   \n",
       "601917  2017-07-12T21:51:30          389   389.tif   \n",
       "601918  2017-07-12T21:57:30          389   389.tif   \n",
       "601919  2017-07-19T12:31:45          389   389.tif   \n",
       "601920  2017-08-09T14:15:42          389   389.tif   \n",
       "601921  2017-08-09T15:08:33          389   389.tif   \n",
       "601922  2017-08-09T15:16:33          389   389.tif   \n",
       "601923  2017-08-09T15:32:33          389   389.tif   \n",
       "601924  2017-08-09T17:29:12          389   389.tif   \n",
       "601925  2017-08-10T20:04:07          389   389.tif   \n",
       "601926  2017-08-10T20:38:10          389   389.tif   \n",
       "601927  2017-08-10T20:38:10          389   389.tif   \n",
       "601928  2017-07-20T19:50:09          389   389.tif   \n",
       "601929  2017-07-20T19:50:09          389   389.tif   \n",
       "601930  2017-07-20T19:52:09          389   389.tif   \n",
       "601931  2017-07-20T19:53:04          389   389.tif   \n",
       "601932  2017-07-20T19:53:58          389   389.tif   \n",
       "601933  2017-07-20T19:58:09          389   389.tif   \n",
       "601934  2017-07-20T19:58:09          389   389.tif   \n",
       "601935  2017-07-20T20:00:09          389   389.tif   \n",
       "601936  2017-07-20T20:01:06          389   389.tif   \n",
       "\n",
       "                                               point_geom  feature_id  \\\n",
       "0       0101000020E6100000616E4E6406A256C03BE6ADA0D621...      374410   \n",
       "1       0101000020E6100000042D0CC705A256C0004F7071E71F...      394393   \n",
       "2       0101000020E6100000B29F7E4707A256C0000AE6537921...      374031   \n",
       "3       0101000020E6100000CE53137207A256C00EBF7084B521...      374409   \n",
       "4       0101000020E610000060DE147608A256C05D6A384C6122...      377368   \n",
       "5       0101000020E61000007606B0D506A256C07401EBF6C721...      374411   \n",
       "6       0101000020E61000001171AD7206A256C025259ED10B22...      375664   \n",
       "7       0101000020E6100000E6C168E807A256C030F0F2BF6822...      377370   \n",
       "8       0101000020E610000020DEB82707A256C0AC20E5D43B23...      380942   \n",
       "9       0101000020E61000009776098C06A256C000235A091F20...      365879   \n",
       "10      0101000020E6100000226B9C3208A256C0DA3F63DD6423...      381118   \n",
       "11      0101000020E61000009EFE403107A256C0851743B79A20...      365886   \n",
       "12      0101000020E61000002938CFAB06A256C0626A2D4E5220...      394386   \n",
       "13      0101000020E61000000CE810F307A256C0CC27105C4221...      373719   \n",
       "14      0101000020E61000002D6CC93707A256C02FF57999F321...      375514   \n",
       "15      0101000020E610000049E97B0C08A256C0EB68976B5E21...      373723   \n",
       "16      0101000020E61000006812F1C708A256C09A67EB313F23...      380938   \n",
       "17      0101000020E61000009676098C06A256C00027860C2B20...      365555   \n",
       "18      0101000020E610000046315C5E07A256C05C59D8557D23...      381505   \n",
       "19      0101000020E61000006CD8B2CE07A256C03F65EED70C22...      375661   \n",
       "20      0101000020E6100000852A9DEB08A256C07826539A2923...      378494   \n",
       "21      0101000020E61000000821F55D08A256C0FE4A452BD322...      378665   \n",
       "22      0101000020E6100000C9E6A5D907A256C05CC2F4187F22...      380772   \n",
       "23      0101000020E610000089174DD007A256C0FEAF28F4E022...      378666   \n",
       "24      0101000020E61000005657EC9B06A256C0177430469321...      374029   \n",
       "25      0101000020E61000000621F55D08A256C0FCC98D26FC22...      378659   \n",
       "26      0101000020E61000007216DC8806A256C0EF6F075C9E1F...      364475   \n",
       "27      0101000020E61000006670F20C06A256C044D1ACD74320...      365557   \n",
       "28      0101000020E6100000891EB69207A256C01BFBD21C2823...      378495   \n",
       "29      0101000020E61000002DDEB82707A256C00F12AC6DF01F...      365323   \n",
       "...                                                   ...         ...   \n",
       "601907  0101000020E6100000CA23A90995B95840D76D22DEF94B...      320496   \n",
       "601908  0101000020E6100000160ED8DA9DB958405E274319DF3A...      141097   \n",
       "601909  0101000020E6100000219D21987BB95840394B7A13983D...      141219   \n",
       "601910  0101000020E610000048BCF5C49AB95840CFBBA413CE3B...      144411   \n",
       "601911  0101000020E6100000A32DE34FB7B958408EBB5757AC3C...      144421   \n",
       "601912  0101000020E61000004408BFD785B9584015B225AE9E3B...      144440   \n",
       "601913  0101000020E61000000204B6C786B95840D789D117753E...      144469   \n",
       "601914  0101000020E6100000A32466158FB9584005130AB8563D...      144474   \n",
       "601915  0101000020E61000006973A00589B9584025F963740B40...      144509   \n",
       "601916  0101000020E6100000997A5EE18FB9584027E8D4730C40...      144536   \n",
       "601917  0101000020E61000004EBE082E7EB9584079DAC599713E...      144571   \n",
       "601918  0101000020E6100000F199B01D52B95840636FEA8A5540...      144649   \n",
       "601919  0101000020E610000090E9CDC62FB95840823DF5C13641...      248177   \n",
       "601920  0101000020E6100000750D0C10B3B9584056537EBDAC46...      138073   \n",
       "601921  0101000020E6100000B5A10040B4B9584092806FD0D33B...      138962   \n",
       "601922  0101000020E61000001B59EF6E9BB958409CC18C26913C...      141315   \n",
       "601923  0101000020E61000003C4E383C79B95840C3E611781A3B...      140000   \n",
       "601924  0101000020E610000004C1FE71B4B958407470AE9D6A3E...      143171   \n",
       "601925  0101000020E610000048CCF23B4BB95840D92451D1F742...      140760   \n",
       "601926  0101000020E610000016C06C2B59B9584073EF74124840...      140302   \n",
       "601927  0101000020E6100000BC02B68D51B95840B97285B08440...      140919   \n",
       "601928  0101000020E610000075A598FB31B95840A8493831C944...      319571   \n",
       "601929  0101000020E61000001B4B920036B95840B307EE95A643...      319585   \n",
       "601930  0101000020E6100000C4F0D74937B95840C5687FD50B42...      319716   \n",
       "601931  0101000020E6100000D10589753EB95840249237D06A3D...      319831   \n",
       "601932  0101000020E6100000CF0EE83357B958406B326375013F...      319871   \n",
       "601933  0101000020E610000000632E73A6B95840B722198AA84A...      320284   \n",
       "601934  0101000020E610000056BA697BA6B958407F027597FE49...      320300   \n",
       "601935  0101000020E61000003C99A0629CB95840CE2F5BD4444C...      320500   \n",
       "601936  0101000020E610000066CC2912B3B95840C97ECDAB2B4C...      320643   \n",
       "\n",
       "         grid_file                                           geometry  \n",
       "0        Grid2.shp  POLYGON ((-90.53169885094464 14.56603647302396...  \n",
       "1        Grid2.shp  POLYGON ((-90.53167232380382 14.562217332511, ...  \n",
       "2        Grid2.shp  POLYGON ((-90.53178519354792 14.56527320570044...  \n",
       "3        Grid2.shp  POLYGON ((-90.53177155821692 14.56572251279647...  \n",
       "4        Grid2.shp  POLYGON ((-90.5318405973036 14.56709527147164,...  \n",
       "5        Grid2.shp  POLYGON ((-90.5317240188466 14.56593542840181,...  \n",
       "6        Grid2.shp  POLYGON ((-90.53170890393909 14.56639692430301...  \n",
       "7        Grid2.shp  POLYGON ((-90.53183912872484 14.567105221062, ...  \n",
       "8        Grid2.shp  POLYGON ((-90.5317405001592 14.56876233350313,...  \n",
       "9        Grid2.shp  POLYGON ((-90.53172686488823 14.56268840017671...  \n",
       "10       Grid2.shp  POLYGON ((-90.53179807130391 14.56905779608685...  \n",
       "11       Grid2.shp  POLYGON ((-90.53173898512915 14.5636048713513,...  \n",
       "12       Grid2.shp  POLYGON ((-90.53172837991842 14.56307075241362...  \n",
       "13       Grid2.shp  POLYGON ((-90.53181700918051 14.56482743796916...  \n",
       "14       Grid2.shp  POLYGON ((-90.53175736703712 14.56620788148455...  \n",
       "15       Grid2.shp  POLYGON ((-90.53183821960224 14.56509284583875...  \n",
       "16       Grid2.shp  POLYGON ((-90.53184655226792 14.56878286193365...  \n",
       "17       Grid2.shp  POLYGON ((-90.53169126168029 14.5627668502583,...  \n",
       "18       Grid2.shp  POLYGON ((-90.53179078495393 14.56922322999391...  \n",
       "19       Grid2.shp  POLYGON ((-90.53178747290102 14.56639976705093...  \n",
       "20       Grid2.shp  POLYGON ((-90.53185906619365 14.56860429823382...  \n",
       "21       Grid2.shp  POLYGON ((-90.53182382426354 14.56794343921252...  \n",
       "22       Grid2.shp  POLYGON ((-90.53178443603277 14.56732680494212...  \n",
       "23       Grid2.shp  POLYGON ((-90.53179739281593 14.56806850515775...  \n",
       "24       Grid2.shp  POLYGON ((-90.53173519755379 14.56548729119841...  \n",
       "25       Grid2.shp  POLYGON ((-90.53187375033116 14.56820778305877...  \n",
       "26       Grid2.shp  POLYGON ((-90.53168671658999 14.56171840293712...  \n",
       "27       Grid2.shp  POLYGON ((-90.5316791414393 14.56295307744305,...  \n",
       "28       Grid2.shp  POLYGON ((-90.5318003296434 14.56857018942963,...  \n",
       "29       Grid2.shp  POLYGON ((-90.53175716549072 14.5623012816085,...  \n",
       "...            ...                                                ...  \n",
       "601907  Grid97.shp  POLYGON ((98.89969406497042 3.662070258093494,...  \n",
       "601908  Grid97.shp  POLYGON ((98.90034742115949 3.653833386314032,...  \n",
       "601909  Grid97.shp  POLYGON ((98.89801126197872 3.655177039004442,...  \n",
       "601910  Grid97.shp  POLYGON ((98.89999365991268 3.654095075204036,...  \n",
       "601911  Grid97.shp  POLYGON ((98.90178296713825 3.654586574312956,...  \n",
       "601912  Grid97.shp  POLYGON ((98.89875835614994 3.654072712701883,...  \n",
       "601913  Grid97.shp  POLYGON ((98.89868970167609 3.655610490275135,...  \n",
       "601914  Grid97.shp  POLYGON ((98.89921795971124 3.655086161708176,...  \n",
       "601915  Grid97.shp  POLYGON ((98.89896050543418 3.656294686256278,...  \n",
       "601916  Grid97.shp  POLYGON ((98.89933905857484 3.656207139650832,...  \n",
       "601917  Grid97.shp  POLYGON ((98.89816430424393 3.655593361579049,...  \n",
       "601918  Grid97.shp  POLYGON ((98.89559548267947 3.656460263508458,...  \n",
       "601919  Grid97.shp  POLYGON ((98.89345821909137 3.656762028096928,...  \n",
       "601920  Grid97.shp  POLYGON ((98.90147402200463 3.659598136973427,...  \n",
       "601921  Grid97.shp  POLYGON ((98.90153981587564 3.654289200731296,...  \n",
       "601922  Grid97.shp  POLYGON ((98.900025126546 3.654676500064611, 9...  \n",
       "601923  Grid97.shp  POLYGON ((98.89797359737143 3.653936158687217,...  \n",
       "601924  Grid97.shp  POLYGON ((98.90154506031536 3.655567192737191,...  \n",
       "601925  Grid97.shp  POLYGON ((98.89516114777813 3.657780598261256,...  \n",
       "601926  Grid97.shp  POLYGON ((98.89599692064418 3.656440755845267,...  \n",
       "601927  Grid97.shp  POLYGON ((98.89555781807167 3.656546382699347,...  \n",
       "601928  Grid97.shp  POLYGON ((98.89363841820882 3.65854377927053, ...  \n",
       "601929  Grid97.shp  POLYGON ((98.89373654892931 3.657983615291753,...  \n",
       "601930  Grid97.shp  POLYGON ((98.89384645533632 3.657174706550665,...  \n",
       "601931  Grid97.shp  POLYGON ((98.89439402475659 3.65495167271632, ...  \n",
       "601932  Grid97.shp  POLYGON ((98.89589836870171 3.655721411046608,...  \n",
       "601933  Grid97.shp  POLYGON ((98.90070186746991 3.661389641906935,...  \n",
       "601934  Grid97.shp  POLYGON ((98.90075485805892 3.661099767805666,...  \n",
       "601935  Grid97.shp  POLYGON ((98.90009836353885 3.662195608931879,...  \n",
       "601936  Grid97.shp  POLYGON ((98.90150948329956 3.662159374706962,...  \n",
       "\n",
       "[601937 rows x 11 columns]>"
      ]
     },
     "execution_count": 5,
     "metadata": {},
     "output_type": "execute_result"
    }
   ],
   "source": [
    "df.head"
   ]
  },
  {
   "cell_type": "code",
   "execution_count": 6,
   "metadata": {
    "collapsed": false
   },
   "outputs": [
    {
     "data": {
      "text/plain": [
       "['bounds_imcoords',\n",
       " 'edited_by',\n",
       " 'cat_id',\n",
       " 'type_id',\n",
       " 'ingest_time',\n",
       " 'index_right',\n",
       " 'image_id',\n",
       " 'point_geom',\n",
       " 'feature_id',\n",
       " 'grid_file',\n",
       " 'geometry']"
      ]
     },
     "execution_count": 6,
     "metadata": {},
     "output_type": "execute_result"
    }
   ],
   "source": [
    "list(df)"
   ]
  },
  {
   "cell_type": "markdown",
   "metadata": {},
   "source": [
    "Next, we want to identify all instances of \"small cars\", which is what this project will be looking at.\n"
   ]
  },
  {
   "cell_type": "code",
   "execution_count": 13,
   "metadata": {
    "collapsed": false
   },
   "outputs": [],
   "source": [
    "df_cars = df.loc[df['type_id'] == 18]"
   ]
  },
  {
   "cell_type": "code",
   "execution_count": 20,
   "metadata": {
    "collapsed": false,
    "scrolled": false
   },
   "outputs": [
    {
     "data": {
      "text/plain": [
       "211664"
      ]
     },
     "execution_count": 20,
     "metadata": {},
     "output_type": "execute_result"
    }
   ],
   "source": [
    "# explore dataset to make sure it worked\n",
    "df_cars.head\n",
    "len(df_cars)\n",
    "# there are 211664 instances of cars in this dataset"
   ]
  },
  {
   "cell_type": "code",
   "execution_count": 18,
   "metadata": {
    "collapsed": false
   },
   "outputs": [],
   "source": [
    "# extract just the names of images that have cars in them\n",
    "images = df_cars['image_id'].unique().tolist()"
   ]
  },
  {
   "cell_type": "markdown",
   "metadata": {},
   "source": [
    "# JSON Conversion\n",
    "With help from https://stackoverflow.com/questions/27189892/how-to-filter-json-array-in-python"
   ]
  },
  {
   "cell_type": "code",
   "execution_count": 65,
   "metadata": {
    "collapsed": true
   },
   "outputs": [],
   "source": [
    "import json"
   ]
  },
  {
   "cell_type": "code",
   "execution_count": 48,
   "metadata": {
    "collapsed": true
   },
   "outputs": [],
   "source": [
    "input_json = \"../data/xView_train.geojson\""
   ]
  },
  {
   "cell_type": "code",
   "execution_count": 50,
   "metadata": {
    "collapsed": false
   },
   "outputs": [],
   "source": [
    "with open(input_json) as f:\n",
    "    data = json.load(f)"
   ]
  },
  {
   "cell_type": "code",
   "execution_count": 51,
   "metadata": {
    "collapsed": false
   },
   "outputs": [
    {
     "data": {
      "text/plain": [
       "dict_keys(['crs', 'type', 'features', 'name'])"
      ]
     },
     "execution_count": 51,
     "metadata": {},
     "output_type": "execute_result"
    }
   ],
   "source": [
    "# Understand structure of data - what's in \n",
    "data.keys()"
   ]
  },
  {
   "cell_type": "code",
   "execution_count": 54,
   "metadata": {
    "collapsed": false
   },
   "outputs": [
    {
     "data": {
      "text/plain": [
       "'U-LIMDIS_xView_Final'"
      ]
     },
     "execution_count": 54,
     "metadata": {},
     "output_type": "execute_result"
    }
   ],
   "source": [
    "data['name']"
   ]
  },
  {
   "cell_type": "code",
   "execution_count": 55,
   "metadata": {
    "collapsed": true
   },
   "outputs": [],
   "source": [
    "# copy initial dictionary to preserve categories, structure\n",
    "output_dict = data"
   ]
  },
  {
   "cell_type": "code",
   "execution_count": 56,
   "metadata": {
    "collapsed": false
   },
   "outputs": [
    {
     "data": {
      "text/plain": [
       "dict_keys(['crs', 'type', 'features', 'name'])"
      ]
     },
     "execution_count": 56,
     "metadata": {},
     "output_type": "execute_result"
    }
   ],
   "source": [
    "data.keys()"
   ]
  },
  {
   "cell_type": "code",
   "execution_count": 57,
   "metadata": {
    "collapsed": false
   },
   "outputs": [],
   "source": [
    "# Transform json input to python objects\n",
    "#input_dict = json.loads(input_json)\n",
    "\n",
    "# Filter python objects with list comprehensions\n",
    "output_dict['features'] = [x for x in data['features'] if x['properties']['type_id'] == 18]"
   ]
  },
  {
   "cell_type": "code",
   "execution_count": 59,
   "metadata": {
    "collapsed": false
   },
   "outputs": [
    {
     "data": {
      "text/plain": [
       "211664"
      ]
     },
     "execution_count": 59,
     "metadata": {},
     "output_type": "execute_result"
    }
   ],
   "source": [
    "# confirm that this has the same number of entries as we expect (211664)\n",
    "len(output_dict['features'])"
   ]
  },
  {
   "cell_type": "code",
   "execution_count": 60,
   "metadata": {
    "collapsed": true
   },
   "outputs": [],
   "source": [
    "# Transform python object back into json\n",
    "output_json = json.dumps(output_dict)"
   ]
  },
  {
   "cell_type": "code",
   "execution_count": 61,
   "metadata": {
    "collapsed": true
   },
   "outputs": [],
   "source": [
    "# write output_json to file for future use\n",
    "with open('output_json_test.geojson', 'w') as outfile:  \n",
    "    json.dump(output_dict, outfile)"
   ]
  },
  {
   "cell_type": "markdown",
   "metadata": {},
   "source": [
    "# JSON Confirmation"
   ]
  },
  {
   "cell_type": "code",
   "execution_count": 63,
   "metadata": {
    "collapsed": false
   },
   "outputs": [
    {
     "data": {
      "text/plain": [
       "{'geometry': {'coordinates': [[[-90.531649339747, 14.561428418217771],\n",
       "    [-90.531649339747, 14.561448895202519],\n",
       "    [-90.53160098188819, 14.561448895202519],\n",
       "    [-90.53160098188819, 14.561428418217771],\n",
       "    [-90.531649339747, 14.561428418217771]]],\n",
       "  'type': 'Polygon'},\n",
       " 'properties': {'bounds_imcoords': '2726,2512,2740,2518',\n",
       "  'cat_id': '1040010028371A00',\n",
       "  'edited_by': 'wwkarlanicole',\n",
       "  'feature_id': 75689,\n",
       "  'grid_file': 'Grid2.shp',\n",
       "  'image_id': '2355.tif',\n",
       "  'index_right': 2356,\n",
       "  'ingest_time': '2017/07/06 15:40:23.038+00',\n",
       "  'point_geom': '0101000020E610000050DC892506A256C07C8F3AE3741F2D40',\n",
       "  'type_id': 18},\n",
       " 'type': 'Feature'}"
      ]
     },
     "execution_count": 63,
     "metadata": {},
     "output_type": "execute_result"
    }
   ],
   "source": [
    "output_dict['features'][0]"
   ]
  },
  {
   "cell_type": "code",
   "execution_count": 66,
   "metadata": {
    "collapsed": false
   },
   "outputs": [
    {
     "data": {
      "text/plain": [
       "array([[0., 0., 0., 0.],\n",
       "       [0., 0., 0., 0.],\n",
       "       [0., 0., 0., 0.],\n",
       "       ...,\n",
       "       [0., 0., 0., 0.],\n",
       "       [0., 0., 0., 0.],\n",
       "       [0., 0., 0., 0.]])"
      ]
     },
     "execution_count": 66,
     "metadata": {},
     "output_type": "execute_result"
    }
   ],
   "source": [
    "np.zeros((len(output_dict['features']),4))"
   ]
  },
  {
   "cell_type": "code",
   "execution_count": 72,
   "metadata": {
    "collapsed": false
   },
   "outputs": [],
   "source": [
    "# try to read it back in\n",
    "fname = '../data/output_json_test.geojson'\n",
    "with open(fname) as f:\n",
    "    data = json.load(f)\n",
    "\n",
    "coords = np.zeros((len(data['features']),4))"
   ]
  },
  {
   "cell_type": "code",
   "execution_count": 69,
   "metadata": {
    "collapsed": false
   },
   "outputs": [
    {
     "data": {
      "text/plain": [
       "array([[0., 0., 0., 0.],\n",
       "       [0., 0., 0., 0.],\n",
       "       [0., 0., 0., 0.],\n",
       "       ...,\n",
       "       [0., 0., 0., 0.],\n",
       "       [0., 0., 0., 0.],\n",
       "       [0., 0., 0., 0.]])"
      ]
     },
     "execution_count": 69,
     "metadata": {},
     "output_type": "execute_result"
    }
   ],
   "source": [
    "coords"
   ]
  },
  {
   "cell_type": "code",
   "execution_count": 70,
   "metadata": {
    "collapsed": true
   },
   "outputs": [],
   "source": [
    "chips = np.zeros((len(data['features'])),dtype=\"object\")"
   ]
  },
  {
   "cell_type": "markdown",
   "metadata": {},
   "source": [
    "# Testing Standalone Script\n"
   ]
  },
  {
   "cell_type": "code",
   "execution_count": 1,
   "metadata": {
    "collapsed": true
   },
   "outputs": [],
   "source": [
    "import json_annotation_utilities as extract"
   ]
  },
  {
   "cell_type": "code",
   "execution_count": 75,
   "metadata": {
    "collapsed": false
   },
   "outputs": [],
   "source": [
    "extract.parsetype(\"../data/xView_train.geojson\",\"../data/justcars_test1.geojson\")"
   ]
  },
  {
   "cell_type": "code",
   "execution_count": 2,
   "metadata": {
    "collapsed": true
   },
   "outputs": [],
   "source": [
    "extract.parsetype(\"../data/xView_train.geojson\",\"../data/helipads.geojson\",84)"
   ]
  },
  {
   "cell_type": "markdown",
   "metadata": {
    "collapsed": true
   },
   "source": [
    "# Prototyping Downsampling BBoxes"
   ]
  },
  {
   "cell_type": "code",
   "execution_count": 53,
   "metadata": {
    "collapsed": true
   },
   "outputs": [],
   "source": [
    "import json\n",
    "import math"
   ]
  },
  {
   "cell_type": "code",
   "execution_count": 54,
   "metadata": {
    "collapsed": true
   },
   "outputs": [],
   "source": [
    "input_json=\"../data/xView_train.geojson\"\n",
    "output_file='output_json_test.geojson'\n",
    "scale_factor=2"
   ]
  },
  {
   "cell_type": "code",
   "execution_count": 55,
   "metadata": {
    "collapsed": false
   },
   "outputs": [],
   "source": [
    "with open(input_json) as f:\n",
    "    data = json.load(f)"
   ]
  },
  {
   "cell_type": "code",
   "execution_count": 56,
   "metadata": {
    "collapsed": true
   },
   "outputs": [],
   "source": [
    "output_dict = dict(data)"
   ]
  },
  {
   "cell_type": "code",
   "execution_count": 42,
   "metadata": {
    "collapsed": false
   },
   "outputs": [],
   "source": [
    "# note: these strings are formatted 'xmin,ymin,xmax,ymax'\n",
    "coord_string = output_dict['features'][0]['properties']['bounds_imcoords']"
   ]
  },
  {
   "cell_type": "code",
   "execution_count": 43,
   "metadata": {
    "collapsed": false
   },
   "outputs": [],
   "source": [
    "# get cords as numbers\n",
    "coords = [int(x) for x in coord_string.split(',')]"
   ]
  },
  {
   "cell_type": "code",
   "execution_count": 44,
   "metadata": {
    "collapsed": false
   },
   "outputs": [
    {
     "data": {
      "text/plain": [
       "339"
      ]
     },
     "execution_count": 44,
     "metadata": {},
     "output_type": "execute_result"
    }
   ],
   "source": [
    "# get floor of xmin, ymin\n",
    "math.floor(coords[0]/scale_factor)"
   ]
  },
  {
   "cell_type": "code",
   "execution_count": 45,
   "metadata": {
    "collapsed": false
   },
   "outputs": [
    {
     "data": {
      "text/plain": [
       "148"
      ]
     },
     "execution_count": 45,
     "metadata": {},
     "output_type": "execute_result"
    }
   ],
   "source": [
    "# get ceiling of xmax, ymax\n",
    "math.ceil(coords[3]/scale_factor)"
   ]
  },
  {
   "cell_type": "code",
   "execution_count": 33,
   "metadata": {
    "collapsed": false
   },
   "outputs": [],
   "source": [
    "out_coord = str(math.floor(coords[0]/scale_factor)) + \",\" + \\\n",
    "            str(math.floor(coords[1]/scale_factor)) + \",\" + \\\n",
    "            str(math.ceil(coords[2]/scale_factor)) + \",\" + \\\n",
    "            str(math.ceil(coords[3]/scale_factor))"
   ]
  },
  {
   "cell_type": "code",
   "execution_count": 34,
   "metadata": {
    "collapsed": false
   },
   "outputs": [
    {
     "data": {
      "text/plain": [
       "'1356,572,1373,589'"
      ]
     },
     "execution_count": 34,
     "metadata": {},
     "output_type": "execute_result"
    }
   ],
   "source": [
    "out_coord"
   ]
  },
  {
   "cell_type": "code",
   "execution_count": 35,
   "metadata": {
    "collapsed": true
   },
   "outputs": [],
   "source": [
    "# error handling for if the box collapses?"
   ]
  },
  {
   "cell_type": "code",
   "execution_count": 57,
   "metadata": {
    "collapsed": false
   },
   "outputs": [
    {
     "name": "stdout",
     "output_type": "stream",
     "text": [
      "\n",
      " original: 1356,572,1373,589\n",
      "downsized: 1356,572,1373,589\n",
      "\n",
      " original: 1360,1116,1380,1144\n",
      "downsized: 1360,1116,1380,1144\n",
      "\n",
      " original: 1343,669,1370,700\n",
      "downsized: 1343,669,1370,700\n",
      "\n",
      " original: 1345,600,1365,634\n",
      "downsized: 1345,600,1365,634\n",
      "\n",
      " original: 1335,419,1357,435\n",
      "downsized: 1335,419,1357,435\n",
      "\n",
      " original: 1352,590,1369,603\n",
      "downsized: 1352,590,1369,603\n",
      "\n",
      " original: 1354,507,1374,536\n",
      "downsized: 1354,507,1374,536\n",
      "\n",
      " original: 1335,404,1367,433\n",
      "downsized: 1335,404,1367,433\n",
      "\n",
      " original: 1350,176,1366,192\n",
      "downsized: 1350,176,1366,192\n",
      "\n",
      " original: 1352,1061,1375,1076\n",
      "downsized: 1352,1061,1375,1076\n",
      "\n",
      " original: 1341,128,1356,149\n",
      "downsized: 1341,128,1356,149\n",
      "\n",
      " original: 1350,920,1365,943\n",
      "downsized: 1350,920,1365,943\n",
      "\n",
      " original: 1351,1003,1373,1020\n",
      "downsized: 1351,1003,1373,1020\n",
      "\n",
      " original: 1339,726,1363,765\n",
      "downsized: 1339,726,1363,765\n",
      "\n",
      " original: 1347,533,1367,564\n",
      "downsized: 1347,533,1367,564\n"
     ]
    }
   ],
   "source": [
    "for i in range(15):#range(len(output_dict['features'])):\n",
    "    # get coordinate string\n",
    "    coords = [int(x) for x in output_dict['features'][i]['properties']['bounds_imcoords'].split(',')]\n",
    "\n",
    "    out_coords = str(math.floor(coords[0]/scale_factor)) + \",\" + \\\n",
    "            str(math.floor(coords[1]/scale_factor)) + \",\" + \\\n",
    "            str(math.ceil(coords[2]/scale_factor)) + \",\" + \\\n",
    "            str(math.ceil(coords[3]/scale_factor))\n",
    "\n",
    "    output_dict['features'][i]['properties']['bounds_imcoords'] = out_coords\n",
    "    \n",
    "    print(\"\\n original: \" + data['features'][i]['properties']['bounds_imcoords'])\n",
    "    print(\"downsized: \" + output_dict['features'][i]['properties']['bounds_imcoords'])"
   ]
  },
  {
   "cell_type": "markdown",
   "metadata": {},
   "source": [
    "# Full Code Test"
   ]
  },
  {
   "cell_type": "code",
   "execution_count": 1,
   "metadata": {
    "collapsed": true
   },
   "outputs": [],
   "source": [
    "import json_annotation_utilities as jutil"
   ]
  },
  {
   "cell_type": "code",
   "execution_count": 2,
   "metadata": {
    "collapsed": false
   },
   "outputs": [],
   "source": [
    "# run downsample\n",
    "jutil.downsample_bbox('../data/helipads.geojson','../data/helipads_half.geojson',scale_factor=2)\n"
   ]
  },
  {
   "cell_type": "code",
   "execution_count": null,
   "metadata": {
    "collapsed": true
   },
   "outputs": [],
   "source": []
  }
 ],
 "metadata": {
  "anaconda-cloud": {},
  "kernelspec": {
   "display_name": "Python [conda env:images]",
   "language": "python",
   "name": "conda-env-images-py"
  },
  "language_info": {
   "codemirror_mode": {
    "name": "ipython",
    "version": 3
   },
   "file_extension": ".py",
   "mimetype": "text/x-python",
   "name": "python",
   "nbconvert_exporter": "python",
   "pygments_lexer": "ipython3",
   "version": "3.6.2"
  }
 },
 "nbformat": 4,
 "nbformat_minor": 2
}
