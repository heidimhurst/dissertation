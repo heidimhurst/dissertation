{
 "cells": [
  {
   "cell_type": "code",
   "execution_count": 1,
   "metadata": {},
   "outputs": [],
   "source": [
    "from subprocess import check_output\n",
    "import json, os"
   ]
  },
  {
   "cell_type": "code",
   "execution_count": 2,
   "metadata": {
    "collapsed": true
   },
   "outputs": [],
   "source": [
    "data = \"/Users/heidihurst/Documents/UK/ucl-gis/dissertation/data\""
   ]
  },
  {
   "cell_type": "code",
   "execution_count": 3,
   "metadata": {},
   "outputs": [],
   "source": [
    "gml_head = '<?xml version=\"1.0\" encoding=\"utf-8\" ?><ogr:FeatureCollection xmlns:xsi=\"http://www.w3.org/2001/XMLSchema-instance\" xsi:schemaLocation=\"\" xmlns:ogr=\"http://ogr.maptools.org/\" xmlns:gml=\"http://www.opengis.net/gml\">'                                                                                          \n",
    "\n",
    "gml_foot = \"</ogr:FeatureCollection>\""
   ]
  },
  {
   "cell_type": "code",
   "execution_count": 4,
   "metadata": {
    "collapsed": true
   },
   "outputs": [],
   "source": [
    "outfiledirectory = data\n",
    "outfilename = \"photo_bounds\""
   ]
  },
  {
   "cell_type": "code",
   "execution_count": 5,
   "metadata": {},
   "outputs": [],
   "source": [
    "out_gml = gml_head"
   ]
  },
  {
   "cell_type": "code",
   "execution_count": 6,
   "metadata": {
    "collapsed": true
   },
   "outputs": [],
   "source": [
    "def parse_coords(coord_list):\n",
    "    out_coords = \"\"\n",
    "    for coords in coord_list:\n",
    "        out_coords += str(coords[0]) + \",\" + str(coords[1]) + \" \"\n",
    "    out_coords += str(coord_list[0][0]) + \",\" + str(coord_list[0][1])\n",
    "    \n",
    "    return out_coords"
   ]
  },
  {
   "cell_type": "code",
   "execution_count": 7,
   "metadata": {},
   "outputs": [],
   "source": [
    "# initialize counter\n",
    "i = 0\n",
    "gml_middle = \"\"\n",
    "for filename in os.listdir(data):\n",
    "    if filename.endswith(\".tif\"):\n",
    "        # get gdal data\n",
    "        tiff_info = json.loads(check_output([\"gdalinfo\",\"-json\",\n",
    "                                             \"/Users/heidihurst/Documents/UK/ucl-gis/dissertation/data/\"+filename]))\n",
    "        # get just file name\n",
    "        image_name = os.path.splitext(filename)[0]\n",
    "        \n",
    "        # add field info\n",
    "        gml_middle += \" <gml:featureMember> <ogr:\" + outfilename + \" fid=\" + '\"' + outfilename + '.' + str(i) + '/\">'\n",
    "        gml_middle += '<ogr:geometryProperty> <gml:Polygon srsName=\"EPSG:4326\"> <gml:outerBoundaryIs> <gml:LinearRing> <gml:coordinates>'\n",
    "        \n",
    "        # add coordinate info\n",
    "        gml_middle += parse_coords(tiff_info['wgs84Extent']['coordinates'][0])\n",
    "        \n",
    "        # close polygon\n",
    "        gml_middle += \"</gml:coordinates> </gml:LinearRing> </gml:outerBoundaryIs> </gml:Polygon> </ogr:geometryProperty> \"\n",
    "        \n",
    "        # add ID field\n",
    "        gml_middle += \"<ogr:id>\" + str(i) + \"</ogr:id>\"\n",
    "        \n",
    "        # add name field equal to original tif name and close tag\n",
    "        gml_middle += \"<ogr:name> \" + image_name +\" </ogr:name>\"\n",
    "        \n",
    "        # add close tag\n",
    "        gml_middle += \"</ogr:\" + outfilename + \"> </gml:featureMember>\""
   ]
  },
  {
   "cell_type": "code",
   "execution_count": 8,
   "metadata": {},
   "outputs": [],
   "source": [
    "out_gml = gml_head + gml_middle + gml_foot"
   ]
  },
  {
   "cell_type": "code",
   "execution_count": 9,
   "metadata": {},
   "outputs": [],
   "source": [
    "out_gml_path = os.path.join(outfiledirectory, outfilename+'.gml')\n",
    "with open(out_gml_path, \"w\") as f:\n",
    "    f.write(out_gml)"
   ]
  },
  {
   "cell_type": "code",
   "execution_count": 11,
   "metadata": {},
   "outputs": [
    {
     "data": {
      "text/plain": [
       "[1688, 1356]"
      ]
     },
     "execution_count": 11,
     "metadata": {},
     "output_type": "execute_result"
    }
   ],
   "source": [
    "tiff_info['size']"
   ]
  },
  {
   "cell_type": "code",
   "execution_count": 13,
   "metadata": {},
   "outputs": [
    {
     "data": {
      "text/plain": [
       "False"
      ]
     },
     "execution_count": 13,
     "metadata": {},
     "output_type": "execute_result"
    }
   ],
   "source": [
    "\"banana\" in ['banana foster']"
   ]
  },
  {
   "cell_type": "code",
   "execution_count": 14,
   "metadata": {},
   "outputs": [
    {
     "data": {
      "text/plain": [
       "[1688, 1356]"
      ]
     },
     "execution_count": 14,
     "metadata": {},
     "output_type": "execute_result"
    }
   ],
   "source": [
    "tiff_info['size']\n"
   ]
  },
  {
   "cell_type": "code",
   "execution_count": 15,
   "metadata": {},
   "outputs": [
    {
     "data": {
      "text/plain": [
       "[3377, 2713]"
      ]
     },
     "execution_count": 15,
     "metadata": {},
     "output_type": "execute_result"
    }
   ],
   "source": [
    "json.loads(check_output([\"gdalinfo\",\"-json\",\"/Users/heidihurst/Documents/UK/ucl-gis/dissertation/data/104.tif\"]))['size']"
   ]
  },
  {
   "cell_type": "code",
   "execution_count": 17,
   "metadata": {},
   "outputs": [
    {
     "data": {
      "text/plain": [
       "'104.tif'"
      ]
     },
     "execution_count": 17,
     "metadata": {},
     "output_type": "execute_result"
    }
   ],
   "source": [
    "os.path.basename(\"/Users/heidihurst/Documents/UK/ucl-gis/dissertation/data/104.tif\")"
   ]
  },
  {
   "cell_type": "code",
   "execution_count": 25,
   "metadata": {},
   "outputs": [],
   "source": [
    "import math\n",
    "from subprocess import call"
   ]
  },
  {
   "cell_type": "code",
   "execution_count": 40,
   "metadata": {},
   "outputs": [],
   "source": [
    "def downsample_image(image_path, downsample_factor=2.0, resample_method='lanczos', output_location=os.path.join(os.getcwd(),'downsampled')):\n",
    "    # get image size from gdalinfo\n",
    "    size = json.loads(check_output([\"gdalinfo\",\"-json\", image_path]))['size'][0]\n",
    "    size = math.ceil(size/float(downsample_factor))\n",
    "    # call gdalwarp to create new image\n",
    "    image_name = os.path.basename(image_path)\n",
    "    print(output_location)\n",
    "    call([\"gdalwarp -ts \" + str(size) + \" 0 -r \" + resample_method + \" \" + image_path + \" \" + os.path.join(output_location, image_name)], shell=True)"
   ]
  },
  {
   "cell_type": "code",
   "execution_count": 41,
   "metadata": {},
   "outputs": [
    {
     "name": "stdout",
     "output_type": "stream",
     "text": [
      "/Users/heidihurst/Documents/UK/ucl-gis/dissertation/dissertation/downsampled\n"
     ]
    }
   ],
   "source": [
    "downsample_image(\"104.tif\")"
   ]
  },
  {
   "cell_type": "code",
   "execution_count": 31,
   "metadata": {},
   "outputs": [
    {
     "data": {
      "text/plain": [
       "'/downsampled/104.tif'"
      ]
     },
     "execution_count": 31,
     "metadata": {},
     "output_type": "execute_result"
    }
   ],
   "source": [
    "os.path.join(\"/downsampled\",\"104.tif\")"
   ]
  },
  {
   "cell_type": "code",
   "execution_count": 33,
   "metadata": {},
   "outputs": [
    {
     "data": {
      "text/plain": [
       "'/Users/heidihurst/Documents/UK/ucl-gis/dissertation/dissertation'"
      ]
     },
     "execution_count": 33,
     "metadata": {},
     "output_type": "execute_result"
    }
   ],
   "source": [
    "os.getcwd()"
   ]
  },
  {
   "cell_type": "code",
   "execution_count": 5,
   "metadata": {},
   "outputs": [],
   "source": [
    "gvers = check_output(['gdalinfo', '--version'])"
   ]
  },
  {
   "cell_type": "code",
   "execution_count": 6,
   "metadata": {},
   "outputs": [
    {
     "data": {
      "text/plain": [
       "True"
      ]
     },
     "execution_count": 6,
     "metadata": {},
     "output_type": "execute_result"
    }
   ],
   "source": [
    "# get which version of gdal\n",
    "# get everything after \"GDAL \"\n",
    "\"2.\" in gvers"
   ]
  },
  {
   "cell_type": "code",
   "execution_count": 7,
   "metadata": {},
   "outputs": [
    {
     "data": {
      "text/plain": [
       "False"
      ]
     },
     "execution_count": 7,
     "metadata": {},
     "output_type": "execute_result"
    }
   ],
   "source": [
    "\"1.\" in gvers"
   ]
  },
  {
   "cell_type": "code",
   "execution_count": 10,
   "metadata": {},
   "outputs": [
    {
     "data": {
      "text/plain": [
       "False"
      ]
     },
     "execution_count": 10,
     "metadata": {},
     "output_type": "execute_result"
    }
   ],
   "source": [
    "\" 2.\" in \"1.2.1\""
   ]
  },
  {
   "cell_type": "code",
   "execution_count": 11,
   "metadata": {},
   "outputs": [],
   "source": [
    "def parse_coords(image_path):\n",
    "    \"\"\"\n",
    "    Correctly formats coordinates list for use in gml string, including\n",
    "    ensuring that it is closed (e.g. first coordinate is the same as last coordinate)\n",
    "\n",
    "    Args:\n",
    "        coord_list: a nested list containing coordinates in the form [[lat,lon],[lat,lon]]\n",
    "                    must have four entries\n",
    "\n",
    "    Output:\n",
    "        returns formmated string\n",
    "    \"\"\"\n",
    "\n",
    "    # determine version\n",
    "    gdal_version = check_output(['gdalinfo','--version'])\n",
    "\n",
    "    # if 2.0 or higher, parse json\n",
    "    if \" 2.\" in gdal_version:\n",
    "        # get gdal data\n",
    "        tiff_info = json.loads(check_output([\"gdalinfo\",\"-json\", image_path]))\n",
    "        coord_list = tiff_info['wgs84Extent']['coordinates'][0]\n",
    "        out_coords = \"\"\n",
    "        for coords in coord_list:\n",
    "            out_coords += str(coords[0]) + \",\" + str(coords[1]) + \" \"\n",
    "        out_coords += str(coord_list[0][0]) + \",\" + str(coord_list[0][1])\n",
    "    # if under 2.0, no json to parse\n",
    "    elif \" 1.\" in gdal_version:\n",
    "        # get gdal data as coord\n",
    "        "
   ]
  },
  {
   "cell_type": "code",
   "execution_count": 64,
   "metadata": {},
   "outputs": [],
   "source": [
    "def get_coords(image_path):\n",
    "    tiff_info = check_output(['gdalinfo '+image_path], shell=True)\n",
    "    \n",
    "    # get coordinate section\n",
    "    tiff_info = tiff_info[:tiff_info.index('Center')]\n",
    "    \n",
    "    coords = []\n",
    "    # get first coordinate set, then cut string\n",
    "    for location in [\"Upper Left\", \"Lower Left\", \"Upper Right\", \"Lower Right\"]:\n",
    "        info = tiff_info[tiff_info.index(location):]\n",
    "        info = info[info.index('(')+1:info.index(')')]\n",
    "        # split coordinates and make floats\n",
    "        coord = [float(x) for x in info.split(\",\")]\n",
    "        coords.append(coord)\n",
    "    \n",
    "    return coords"
   ]
  },
  {
   "cell_type": "code",
   "execution_count": 28,
   "metadata": {},
   "outputs": [],
   "source": [
    "path = '/Users/heidihurst/Documents/UK/ucl-gis/dissertation/data/100.tif'"
   ]
  },
  {
   "cell_type": "code",
   "execution_count": 66,
   "metadata": {},
   "outputs": [],
   "source": [
    "outcoords=get_coords(path)"
   ]
  },
  {
   "cell_type": "code",
   "execution_count": 31,
   "metadata": {},
   "outputs": [],
   "source": [
    "info = check_output(['gdalinfo '+path], shell=True)"
   ]
  },
  {
   "cell_type": "code",
   "execution_count": 43,
   "metadata": {},
   "outputs": [
    {
     "data": {
      "text/plain": [
       "'Upper Left  (  10.2520059,  36.8719731) ( 10d15\\' 7.22\"E, 36d52\\'19.10\"N)\\nLower Left  (  10.2520059,  36.8628427) ( 10d15\\' 7.22\"E, 36d51\\'46.23\"N)\\nUpper Right (  10.2633735,  36.8719731) ( 10d15\\'48.14\"E, 36d52\\'19.10\"N)\\nLower Right (  10.2633735,  36.8628427) ( 10d15\\'48.14\"E, 36d51\\'46.23\"N)\\n'"
      ]
     },
     "execution_count": 43,
     "metadata": {},
     "output_type": "execute_result"
    }
   ],
   "source": [
    "info[info.index('Upper Left'):info.index('Center')]\n",
    "#info[:info.index('Center')]"
   ]
  },
  {
   "cell_type": "code",
   "execution_count": 49,
   "metadata": {},
   "outputs": [],
   "source": [
    "ul = info[info.index('(')+1:info.index(')')]"
   ]
  },
  {
   "cell_type": "code",
   "execution_count": 68,
   "metadata": {},
   "outputs": [
    {
     "data": {
      "text/plain": [
       "[10.2520059, 36.8628427]"
      ]
     },
     "execution_count": 68,
     "metadata": {},
     "output_type": "execute_result"
    }
   ],
   "source": [
    "outcoords[1]"
   ]
  },
  {
   "cell_type": "code",
   "execution_count": 53,
   "metadata": {},
   "outputs": [],
   "source": [
    "coords = []"
   ]
  },
  {
   "cell_type": "code",
   "execution_count": 54,
   "metadata": {},
   "outputs": [],
   "source": [
    "coords.append([])"
   ]
  },
  {
   "cell_type": "code",
   "execution_count": 55,
   "metadata": {},
   "outputs": [
    {
     "data": {
      "text/plain": [
       "[[]]"
      ]
     },
     "execution_count": 55,
     "metadata": {},
     "output_type": "execute_result"
    }
   ],
   "source": [
    "coords"
   ]
  },
  {
   "cell_type": "code",
   "execution_count": 60,
   "metadata": {},
   "outputs": [],
   "source": [
    "coord = [float(x) for x in ul.split(',')]"
   ]
  },
  {
   "cell_type": "code",
   "execution_count": 61,
   "metadata": {},
   "outputs": [
    {
     "data": {
      "text/plain": [
       "[10.25200594232203, 36.871973134459566]"
      ]
     },
     "execution_count": 61,
     "metadata": {},
     "output_type": "execute_result"
    }
   ],
   "source": [
    "coord"
   ]
  },
  {
   "cell_type": "code",
   "execution_count": null,
   "metadata": {},
   "outputs": [],
   "source": []
  }
 ],
 "metadata": {
  "anaconda-cloud": {},
  "kernelspec": {
   "display_name": "Python 2",
   "language": "python",
   "name": "python2"
  },
  "language_info": {
   "codemirror_mode": {
    "name": "ipython",
    "version": 2
   },
   "file_extension": ".py",
   "mimetype": "text/x-python",
   "name": "python",
   "nbconvert_exporter": "python",
   "pygments_lexer": "ipython2",
   "version": "2.7.10"
  }
 },
 "nbformat": 4,
 "nbformat_minor": 2
}
