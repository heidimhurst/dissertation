{
 "cells": [
  {
   "cell_type": "code",
   "execution_count": 1,
   "metadata": {
    "collapsed": true
   },
   "outputs": [],
   "source": [
    "from subprocess import check_output\n",
    "import json, os"
   ]
  },
  {
   "cell_type": "code",
   "execution_count": 2,
   "metadata": {
    "collapsed": true
   },
   "outputs": [],
   "source": [
    "data = \"/Users/heidihurst/Documents/UK/ucl-gis/dissertation/data\""
   ]
  },
  {
   "cell_type": "code",
   "execution_count": 3,
   "metadata": {
    "collapsed": false
   },
   "outputs": [],
   "source": [
    "gml_head = '<?xml version=\"1.0\" encoding=\"utf-8\" ?><ogr:FeatureCollection xmlns:xsi=\"http://www.w3.org/2001/XMLSchema-instance\" xsi:schemaLocation=\"\" xmlns:ogr=\"http://ogr.maptools.org/\" xmlns:gml=\"http://www.opengis.net/gml\">'                                                                                          \n",
    "\n",
    "gml_foot = \"</ogr:FeatureCollection>\""
   ]
  },
  {
   "cell_type": "code",
   "execution_count": 4,
   "metadata": {
    "collapsed": true
   },
   "outputs": [],
   "source": [
    "outfiledirectory = data\n",
    "outfilename = \"photo_bounds\""
   ]
  },
  {
   "cell_type": "code",
   "execution_count": 5,
   "metadata": {
    "collapsed": false
   },
   "outputs": [],
   "source": [
    "out_gml = gml_head"
   ]
  },
  {
   "cell_type": "code",
   "execution_count": 6,
   "metadata": {
    "collapsed": true
   },
   "outputs": [],
   "source": [
    "def parse_coords(coord_list):\n",
    "    out_coords = \"\"\n",
    "    for coords in coord_list:\n",
    "        out_coords += str(coords[0]) + \",\" + str(coords[1]) + \" \"\n",
    "    out_coords += str(coord_list[0][0]) + \",\" + str(coord_list[0][1])\n",
    "    \n",
    "    return out_coords"
   ]
  },
  {
   "cell_type": "code",
   "execution_count": 7,
   "metadata": {
    "collapsed": false
   },
   "outputs": [],
   "source": [
    "# initialize counter\n",
    "i = 0\n",
    "gml_middle = \"\"\n",
    "for filename in os.listdir(data):\n",
    "    if filename.endswith(\".tif\"):\n",
    "        # get gdal data\n",
    "        tiff_info = json.loads(check_output([\"gdalinfo\",\"-json\",\n",
    "                                             \"/Users/heidihurst/Documents/UK/ucl-gis/dissertation/data/\"+filename]))\n",
    "        # get just file name\n",
    "        image_name = os.path.splitext(filename)[0]\n",
    "        \n",
    "        # add field info\n",
    "        gml_middle += \" <gml:featureMember> <ogr:\" + outfilename + \" fid=\" + '\"' + outfilename + '.' + str(i) + '/\">'\n",
    "        gml_middle += '<ogr:geometryProperty> <gml:Polygon srsName=\"EPSG:4326\"> <gml:outerBoundaryIs> <gml:LinearRing> <gml:coordinates>'\n",
    "        \n",
    "        # add coordinate info\n",
    "        gml_middle += parse_coords(tiff_info['wgs84Extent']['coordinates'][0])\n",
    "        \n",
    "        # close polygon\n",
    "        gml_middle += \"</gml:coordinates> </gml:LinearRing> </gml:outerBoundaryIs> </gml:Polygon> </ogr:geometryProperty> \"\n",
    "        \n",
    "        # add ID field\n",
    "        gml_middle += \"<ogr:id>\" + str(i) + \"</ogr:id>\"\n",
    "        \n",
    "        # add name field equal to original tif name and close tag\n",
    "        gml_middle += \"<ogr:name> \" + image_name +\" </ogr:name>\"\n",
    "        \n",
    "        # add close tag\n",
    "        gml_middle += \"</ogr:\" + outfilename + \"> </gml:featureMember>\""
   ]
  },
  {
   "cell_type": "code",
   "execution_count": 8,
   "metadata": {
    "collapsed": false
   },
   "outputs": [],
   "source": [
    "out_gml = gml_head + gml_middle + gml_foot"
   ]
  },
  {
   "cell_type": "code",
   "execution_count": 9,
   "metadata": {
    "collapsed": false
   },
   "outputs": [],
   "source": [
    "out_gml_path = os.path.join(outfiledirectory, outfilename+'.gml')\n",
    "with open(out_gml_path, \"w\") as f:\n",
    "    f.write(out_gml)"
   ]
  },
  {
   "cell_type": "code",
   "execution_count": 11,
   "metadata": {
    "collapsed": false
   },
   "outputs": [
    {
     "data": {
      "text/plain": [
       "[1688, 1356]"
      ]
     },
     "execution_count": 11,
     "metadata": {},
     "output_type": "execute_result"
    }
   ],
   "source": [
    "tiff_info['size']"
   ]
  },
  {
   "cell_type": "code",
   "execution_count": 13,
   "metadata": {
    "collapsed": false
   },
   "outputs": [
    {
     "data": {
      "text/plain": [
       "False"
      ]
     },
     "execution_count": 13,
     "metadata": {},
     "output_type": "execute_result"
    }
   ],
   "source": [
    "\"banana\" in ['banana foster']"
   ]
  },
  {
   "cell_type": "code",
   "execution_count": 14,
   "metadata": {
    "collapsed": false
   },
   "outputs": [
    {
     "data": {
      "text/plain": [
       "[1688, 1356]"
      ]
     },
     "execution_count": 14,
     "metadata": {},
     "output_type": "execute_result"
    }
   ],
   "source": [
    "tiff_info['size']\n"
   ]
  },
  {
   "cell_type": "code",
   "execution_count": 15,
   "metadata": {
    "collapsed": false
   },
   "outputs": [
    {
     "data": {
      "text/plain": [
       "[3377, 2713]"
      ]
     },
     "execution_count": 15,
     "metadata": {},
     "output_type": "execute_result"
    }
   ],
   "source": [
    "json.loads(check_output([\"gdalinfo\",\"-json\",\"/Users/heidihurst/Documents/UK/ucl-gis/dissertation/data/104.tif\"]))['size']"
   ]
  },
  {
   "cell_type": "code",
   "execution_count": 17,
   "metadata": {
    "collapsed": false
   },
   "outputs": [
    {
     "data": {
      "text/plain": [
       "'104.tif'"
      ]
     },
     "execution_count": 17,
     "metadata": {},
     "output_type": "execute_result"
    }
   ],
   "source": [
    "os.path.basename(\"/Users/heidihurst/Documents/UK/ucl-gis/dissertation/data/104.tif\")"
   ]
  },
  {
   "cell_type": "code",
   "execution_count": 25,
   "metadata": {
    "collapsed": false
   },
   "outputs": [],
   "source": [
    "import math\n",
    "from subprocess import call"
   ]
  },
  {
   "cell_type": "code",
   "execution_count": 40,
   "metadata": {
    "collapsed": false
   },
   "outputs": [],
   "source": [
    "def downsample_image(image_path, downsample_factor=2.0, resample_method='lanczos', output_location=os.path.join(os.getcwd(),'downsampled')):\n",
    "    # get image size from gdalinfo\n",
    "    size = json.loads(check_output([\"gdalinfo\",\"-json\", image_path]))['size'][0]\n",
    "    size = math.ceil(size/float(downsample_factor))\n",
    "    # call gdalwarp to create new image\n",
    "    image_name = os.path.basename(image_path)\n",
    "    print(output_location)\n",
    "    call([\"gdalwarp -ts \" + str(size) + \" 0 -r \" + resample_method + \" \" + image_path + \" \" + os.path.join(output_location, image_name)], shell=True)"
   ]
  },
  {
   "cell_type": "code",
   "execution_count": 41,
   "metadata": {
    "collapsed": false
   },
   "outputs": [
    {
     "name": "stdout",
     "output_type": "stream",
     "text": [
      "/Users/heidihurst/Documents/UK/ucl-gis/dissertation/dissertation/downsampled\n"
     ]
    }
   ],
   "source": [
    "downsample_image(\"104.tif\")"
   ]
  },
  {
   "cell_type": "code",
   "execution_count": 31,
   "metadata": {
    "collapsed": false
   },
   "outputs": [
    {
     "data": {
      "text/plain": [
       "'/downsampled/104.tif'"
      ]
     },
     "execution_count": 31,
     "metadata": {},
     "output_type": "execute_result"
    }
   ],
   "source": [
    "os.path.join(\"/downsampled\",\"104.tif\")"
   ]
  },
  {
   "cell_type": "code",
   "execution_count": 33,
   "metadata": {
    "collapsed": false
   },
   "outputs": [
    {
     "data": {
      "text/plain": [
       "'/Users/heidihurst/Documents/UK/ucl-gis/dissertation/dissertation'"
      ]
     },
     "execution_count": 33,
     "metadata": {},
     "output_type": "execute_result"
    }
   ],
   "source": [
    "os.getcwd()"
   ]
  },
  {
   "cell_type": "code",
   "execution_count": null,
   "metadata": {
    "collapsed": true
   },
   "outputs": [],
   "source": []
  }
 ],
 "metadata": {
  "anaconda-cloud": {},
  "kernelspec": {
   "display_name": "Python [conda env:images27]",
   "language": "python",
   "name": "conda-env-images27-py"
  },
  "language_info": {
   "codemirror_mode": {
    "name": "ipython",
    "version": 2
   },
   "file_extension": ".py",
   "mimetype": "text/x-python",
   "name": "python",
   "nbconvert_exporter": "python",
   "pygments_lexer": "ipython2",
   "version": "2.7.13"
  }
 },
 "nbformat": 4,
 "nbformat_minor": 2
}
